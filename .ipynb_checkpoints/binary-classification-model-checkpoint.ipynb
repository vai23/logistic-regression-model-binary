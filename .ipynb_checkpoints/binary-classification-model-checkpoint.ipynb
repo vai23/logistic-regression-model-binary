{
 "cells": [
  {
   "cell_type": "code",
   "execution_count": 1,
   "metadata": {},
   "outputs": [],
   "source": [
    "import numpy as np\n",
    "import matplotlib.pyplot as plt\n",
    "import pandas as pd\n",
    "%matplotlib inline"
   ]
  },
  {
   "cell_type": "code",
   "execution_count": 2,
   "metadata": {},
   "outputs": [],
   "source": [
    "class LogisticRegression:\n",
    "    \n",
    "    __theta=[];\n",
    "    \n",
    "    def __init__(self):\n",
    "        pass\n",
    "    \n",
    "    def __normalize(self, x):\n",
    "        _min=np.min(x,axis=0)\n",
    "        _max=np.max(x,axis=0)\n",
    "        rng=_max-_min\n",
    "        return (1-((_max-x)/rng))\n",
    "    \n",
    "    def __h(self, X, theta):\n",
    "        return 1/(1+np.exp(-(X@theta)))\n",
    "    \n",
    "    def __gradient(self, X, theta):\n",
    "        t=self.__h(X,theta)-y\n",
    "        t=np.dot(t.T,X)\n",
    "        return t\n",
    "    \n",
    "    def cost(self, X, y, theta):\n",
    "        h=self.__h(X,theta)\n",
    "        t1=y*np.log(h)\n",
    "        t2=(1-y)*np.log(1-h)\n",
    "        Cost=-t1-t2\n",
    "        return np.mean(Cost)\n",
    "    \n",
    "    def train(self, x, y, lr=0.01, converge_change=0.00001, stacked=False):\n",
    "        x=self.__normalize(x)\n",
    "        self.__y=np.squeeze(y)\n",
    "        \n",
    "        if not stacked:\n",
    "            X=np.column_stack(( np.ones(( y.shape[0],1 )), x ))\n",
    "        else:\n",
    "            X=x\n",
    "        \n",
    "        theta=np.zeros((X.shape[1],1))\n",
    "        change, old_cost=1, self.cost(X,y,theta)\n",
    "        iters=0\n",
    "        self.__cost=[old_cost]\n",
    "        \n",
    "        while change>converge_change:\n",
    "            theta=theta-lr*self.__gradient(X,theta).T\n",
    "            new_cost=self.cost(X,y,theta)\n",
    "            self.__cost.append(new_cost)\n",
    "            change=abs(new_cost-old_cost)\n",
    "            old_cost=new_cost\n",
    "            iters+=1\n",
    "        \n",
    "        self.__theta=theta\n",
    "        return theta, iters\n",
    "    \n",
    "    def plot_cost(self):\n",
    "        plt.rcParams.update({'font.size': 15})\n",
    "        plt.rcParams.update({'figure.figsize': (15,5)})\n",
    "        plt.plot(self.__cost)\n",
    "        plt.xlabel('#iterations')\n",
    "        plt.ylabel('cost')\n",
    "        plt.show()\n",
    "        pass\n",
    "    \n",
    "    def plot_data(self):\n",
    "        pass\n",
    "    \n",
    "    def predict(self, x, stacked=False):\n",
    "        x=self.__normalize(x)\n",
    "        if not stacked:\n",
    "            X=np.column_stack(( np.ones(( y.shape[0],1 )), x ))\n",
    "        else:\n",
    "            X=x\n",
    "        prob=np.squeeze(self.__h(X, self.__theta))\n",
    "        self.pred_y=np.squeeze(np.where(prob>=0.5,1,0))\n",
    "        return self.pred_y\n",
    "    \n",
    "    def accuracy(self):\n",
    "        return np.sum(self.__y == self.pred_y)"
   ]
  },
  {
   "cell_type": "code",
   "execution_count": 3,
   "metadata": {},
   "outputs": [],
   "source": [
    "data=pd.read_csv('data1.csv')\n",
    "x=np.column_stack(( data['Exam 1 Score'], data['Exam 2 Score'] ))\n",
    "y=np.array(data['y'],dtype=float).reshape(x.shape[0],1)"
   ]
  },
  {
   "cell_type": "code",
   "execution_count": 4,
   "metadata": {
    "scrolled": true
   },
   "outputs": [
    {
     "name": "stdout",
     "output_type": "stream",
     "text": [
      "Predicted theta= [[-9.3671578  10.63702771 10.04113477]]\n",
      "Number of Iterations= 1544\n",
      "Accuracy of model= 89 %\n"
     ]
    }
   ],
   "source": [
    "model=LogisticRegression()\n",
    "theta, iters=model.train(x, y)\n",
    "\n",
    "print('Predicted theta=',theta.T)\n",
    "print('Number of Iterations=',iters)\n",
    "\n",
    "model.predict(x)\n",
    "print('Accuracy of model=',model.accuracy(),'%')"
   ]
  },
  {
   "cell_type": "code",
   "execution_count": 5,
   "metadata": {},
   "outputs": [
    {
     "data": {
      "image/png": "[encoded data removed]",
      "text/plain": [
       "<Figure size 1080x360 with 1 Axes>"
      ]
     },
     "metadata": {
      "needs_background": "light"
     },
     "output_type": "display_data"
    }
   ],
   "source": [
    "model.plot_cost()"
   ]
  },
  {
   "cell_type": "code",
   "execution_count": null,
   "metadata": {},
   "outputs": [],
   "source": []
  }
 ],
 "metadata": {
  "kernelspec": {
   "display_name": "Python 3",
   "language": "python",
   "name": "python3"
  },
  "language_info": {
   "codemirror_mode": {
    "name": "ipython",
    "version": 3
   },
   "file_extension": ".py",
   "mimetype": "text/x-python",
   "name": "python",
   "nbconvert_exporter": "python",
   "pygments_lexer": "ipython3",
   "version": "3.7.0"
  }
 },
 "nbformat": 4,
 "nbformat_minor": 2
}
